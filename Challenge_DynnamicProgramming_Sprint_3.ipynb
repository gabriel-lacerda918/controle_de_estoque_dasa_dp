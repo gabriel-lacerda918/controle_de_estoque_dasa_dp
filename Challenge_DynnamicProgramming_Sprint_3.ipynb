{
  "cells": [
    {
      "cell_type": "markdown",
      "id": "aa14452f",
      "metadata": {
        "id": "aa14452f"
      },
      "source": [
        "# Dynamic Programming – Sprint 3\n",
        "\n",
        "**INTEGRANTES**\n",
        "- Fernanda Menon RM 554673\n",
        "- Gabriel Lacerda RM 556714\n",
        "- Luiza Macena RM 556237\n",
        "- Roger Cardoso RM 557230\n",
        "\n",
        "2ESPW\n",
        "\n",
        " Este notebook implementa **estruturas de dados e algoritmos clássicos** aplicados ao consumo de insumos hospitalares.\n",
        "\n",
        "### Objetivos:\n",
        "- Registrar consumo em ordem cronológica (**Fila / Queue**).\n",
        "- Consultar em ordem inversa (**Pilha / Stack**).\n",
        "- Localizar insumos usando busca **Sequencial** e **Binária**.\n",
        "- Organizar dados por quantidade (**Merge Sort**) e validade (**Quick Sort**).\n",
        "- Gerar relatório final."
      ]
    },
    {
      "cell_type": "markdown",
      "id": "04f65088",
      "metadata": {
        "id": "04f65088"
      },
      "source": [
        "## 📦 Importações e Definições"
      ]
    },
    {
      "cell_type": "code",
      "execution_count": 1,
      "id": "8eecd7d7",
      "metadata": {
        "id": "8eecd7d7"
      },
      "outputs": [],
      "source": [
        "\n",
        "from collections import deque\n",
        "from dataclasses import dataclass\n",
        "from datetime import datetime, timedelta\n",
        "import random\n",
        "from typing import List, Tuple, Any\n"
      ]
    },
    {
      "cell_type": "markdown",
      "id": "2dbea94a",
      "metadata": {
        "id": "2dbea94a"
      },
      "source": [
        "## 📌 Estrutura de Dados - Consumo de Insumos"
      ]
    },
    {
      "cell_type": "code",
      "execution_count": 2,
      "id": "04b8b6c7",
      "metadata": {
        "id": "04b8b6c7"
      },
      "outputs": [],
      "source": [
        "\n",
        "@dataclass(frozen=True)\n",
        "class ConsumptionEvent:\n",
        "    item: str\n",
        "    date: datetime\n",
        "    qty: int\n",
        "    validity_until: datetime\n"
      ]
    },
    {
      "cell_type": "markdown",
      "id": "f248ce4b",
      "metadata": {
        "id": "f248ce4b"
      },
      "source": [
        "## 🔄 Estruturas - Fila (Queue) e Pilha (Stack)"
      ]
    },
    {
      "cell_type": "code",
      "execution_count": 3,
      "id": "cb94989b",
      "metadata": {
        "id": "cb94989b"
      },
      "outputs": [],
      "source": [
        "\n",
        "class Queue:\n",
        "    def __init__(self):\n",
        "        self._dq = deque()\n",
        "    def enqueue(self, value: Any): self._dq.append(value)\n",
        "    def dequeue(self): return self._dq.popleft() if self._dq else None\n",
        "    def __len__(self): return len(self._dq)\n",
        "    def to_list(self): return list(self._dq)\n",
        "\n",
        "class Stack:\n",
        "    def __init__(self):\n",
        "        self._data = []\n",
        "    def push(self, value: Any): self._data.append(value)\n",
        "    def pop(self): return self._data.pop() if self._data else None\n",
        "    def __len__(self): return len(self._data)\n",
        "    def to_list(self): return list(self._data)\n"
      ]
    },
    {
      "cell_type": "markdown",
      "id": "70fbd7f1",
      "metadata": {
        "id": "70fbd7f1"
      },
      "source": [
        "## 🔍 Algoritmos de Busca"
      ]
    },
    {
      "cell_type": "code",
      "execution_count": 4,
      "id": "374a2aac",
      "metadata": {
        "id": "374a2aac"
      },
      "outputs": [],
      "source": [
        "\n",
        "def linear_search(events: List[ConsumptionEvent], predicate):\n",
        "    return [i for i, ev in enumerate(events) if predicate(ev)]\n",
        "\n",
        "def binary_search(events_sorted: List[ConsumptionEvent], key: Tuple[str, datetime]) -> int:\n",
        "    lo, hi = 0, len(events_sorted) - 1\n",
        "    while lo <= hi:\n",
        "        mid = (lo + hi) // 2\n",
        "        probe = (events_sorted[mid].item, events_sorted[mid].date)\n",
        "        if probe == key: return mid\n",
        "        if probe < key: lo = mid + 1\n",
        "        else: hi = mid - 1\n",
        "    return -1\n"
      ]
    },
    {
      "cell_type": "markdown",
      "id": "1bff2743",
      "metadata": {
        "id": "1bff2743"
      },
      "source": [
        "## 📊 Algoritmos de Ordenação"
      ]
    },
    {
      "cell_type": "code",
      "execution_count": 5,
      "id": "1d285d27",
      "metadata": {
        "id": "1d285d27"
      },
      "outputs": [],
      "source": [
        "\n",
        "def merge_sort(events: List[ConsumptionEvent], key):\n",
        "    if len(events) <= 1: return events[:]\n",
        "    mid = len(events) // 2\n",
        "    left = merge_sort(events[:mid], key)\n",
        "    right = merge_sort(events[mid:], key)\n",
        "    return _merge(left, right, key)\n",
        "\n",
        "def _merge(left, right, key):\n",
        "    result = []\n",
        "    i = j = 0\n",
        "    while i < len(left) and j < len(right):\n",
        "        if key(left[i]) <= key(right[j]): result.append(left[i]); i += 1\n",
        "        else: result.append(right[j]); j += 1\n",
        "    result.extend(left[i:]); result.extend(right[j:])\n",
        "    return result\n",
        "\n",
        "def quick_sort(events: List[ConsumptionEvent], key, low=0, high=None):\n",
        "    if high is None: high = len(events) - 1\n",
        "    if low < high:\n",
        "        p = _partition(events, key, low, high)\n",
        "        quick_sort(events, key, low, p - 1)\n",
        "        quick_sort(events, key, p + 1, high)\n",
        "\n",
        "def _partition(arr, key, low, high):\n",
        "    pivot = key(arr[high]); i = low\n",
        "    for j in range(low, high):\n",
        "        if key(arr[j]) <= pivot:\n",
        "            arr[i], arr[j] = arr[j], arr[i]; i += 1\n",
        "    arr[i], arr[high] = arr[high], arr[i]\n",
        "    return i\n"
      ]
    },
    {
      "cell_type": "markdown",
      "id": "c4def04a",
      "metadata": {
        "id": "c4def04a"
      },
      "source": [
        "## 🧪 Simulação de Consumo de Insumos"
      ]
    },
    {
      "cell_type": "code",
      "execution_count": 6,
      "id": "1a858ad1",
      "metadata": {
        "colab": {
          "base_uri": "https://localhost:8080/"
        },
        "id": "1a858ad1",
        "outputId": "be211440-3eef-4137-fdb8-bd87c03d8e08"
      },
      "outputs": [
        {
          "output_type": "execute_result",
          "data": {
            "text/plain": [
              "(50,\n",
              " ConsumptionEvent(item='Soro Fisiológico', date=datetime.datetime(2025, 9, 6, 22, 32, 54, 925143), qty=1, validity_until=datetime.datetime(2025, 11, 10, 22, 32, 54, 925143)))"
            ]
          },
          "metadata": {},
          "execution_count": 6
        }
      ],
      "source": [
        "\n",
        "ITEMS = [\"Soro Fisiológico\", \"Luva Nitrílica\", \"Gaze Estéril\", \"Reagente X\", \"Seringa 5ml\"]\n",
        "\n",
        "def simulate_events(days=10, events_per_day=5, seed=42):\n",
        "    random.seed(seed)\n",
        "    start = datetime.now() - timedelta(days=days)\n",
        "    events = []\n",
        "    for d in range(days):\n",
        "        day = start + timedelta(days=d)\n",
        "        for _ in range(events_per_day):\n",
        "            item = random.choice(ITEMS)\n",
        "            qty = random.randint(1, 10)\n",
        "            validity = day + timedelta(days=random.randint(30, 120))\n",
        "            events.append(ConsumptionEvent(item=item, date=day, qty=qty, validity_until=validity))\n",
        "    return events\n",
        "\n",
        "events = simulate_events()\n",
        "len(events), events[0]\n"
      ]
    },
    {
      "cell_type": "markdown",
      "id": "ad22e3e8",
      "metadata": {
        "id": "ad22e3e8"
      },
      "source": [
        "## 📑 Relatório Final"
      ]
    },
    {
      "cell_type": "code",
      "execution_count": 7,
      "id": "2d438227",
      "metadata": {
        "colab": {
          "base_uri": "https://localhost:8080/"
        },
        "id": "2d438227",
        "outputId": "73956a06-977a-46eb-f9e8-09115ca09858"
      },
      "outputs": [
        {
          "output_type": "stream",
          "name": "stdout",
          "text": [
            "============================================================\n",
            "RELATÓRIO DE CONSUMO DE INSUMOS (Simulado)\n",
            "============================================================\n",
            "Total de registros: 50\n",
            "Fila (FIFO): 50 elementos\n",
            "Pilha (LIFO): 50 elementos\n",
            "\n",
            "Top 3 consumos (Merge Sort):\n",
            "  - Reagente X | 2025-09-07 | qtd 10 | validade 2025-11-11\n",
            "  - Gaze Estéril | 2025-09-09 | qtd 10 | validade 2025-11-24\n",
            "  - Reagente X | 2025-09-13 | qtd 10 | validade 2025-12-03\n",
            "\n",
            "Próximos a vencer (Quick Sort):\n",
            "  - Seringa 5ml | validade 2025-10-10 | qtd 7\n",
            "  - Seringa 5ml | validade 2025-10-13 | qtd 5\n",
            "  - Gaze Estéril | validade 2025-10-15 | qtd 9\n",
            "\n",
            "Busca sequencial (Reagente X): 8 ocorrências.\n",
            "Busca binária: encontrado na posição 21\n",
            "\n",
            "Resumo:\n",
            " - Fila (FIFO): registro cronológico.\n",
            " - Pilha (LIFO): últimos eventos primeiro.\n",
            " - Busca sequencial: simples, sem ordenação.\n",
            " - Busca binária: exige ordenação, O(log n).\n",
            " - Merge Sort: ordenação estável por quantidade.\n",
            " - Quick Sort: ordenação in-place por validade.\n"
          ]
        }
      ],
      "source": [
        "\n",
        "# Criar fila e pilha\n",
        "q, s = Queue(), Stack()\n",
        "for ev in events:\n",
        "    q.enqueue(ev)\n",
        "    s.push(ev)\n",
        "\n",
        "# Ordenações\n",
        "by_qty = merge_sort(events, key=lambda e: -e.qty)\n",
        "by_validity = events[:]\n",
        "quick_sort(by_validity, key=lambda e: e.validity_until)\n",
        "\n",
        "# Buscas\n",
        "indices = linear_search(events, lambda ev: ev.item == \"Reagente X\")\n",
        "sorted_by_item_date = merge_sort(events, key=lambda e: (e.item, e.date))\n",
        "pos_bin = -1\n",
        "if indices:\n",
        "    first_idx = indices[0]\n",
        "    key = (events[first_idx].item, events[first_idx].date)\n",
        "    pos_bin = binary_search(sorted_by_item_date, key)\n",
        "\n",
        "# Relatório\n",
        "print(\"=\"*60)\n",
        "print(\"RELATÓRIO DE CONSUMO DE INSUMOS (Simulado)\")\n",
        "print(\"=\"*60)\n",
        "print(f\"Total de registros: {len(events)}\")\n",
        "print(f\"Fila (FIFO): {len(q)} elementos\")\n",
        "print(f\"Pilha (LIFO): {len(s)} elementos\")\n",
        "\n",
        "print(\"\\nTop 3 consumos (Merge Sort):\")\n",
        "for ev in by_qty[:3]:\n",
        "    print(f\"  - {ev.item} | {ev.date.date()} | qtd {ev.qty} | validade {ev.validity_until.date()}\")\n",
        "\n",
        "print(\"\\nPróximos a vencer (Quick Sort):\")\n",
        "for ev in by_validity[:3]:\n",
        "    print(f\"  - {ev.item} | validade {ev.validity_until.date()} | qtd {ev.qty}\")\n",
        "\n",
        "print(\"\\nBusca sequencial (Reagente X):\", len(indices), \"ocorrências.\")\n",
        "print(\"Busca binária:\", \"encontrado na posição \" + str(pos_bin) if pos_bin >= 0 else \"não encontrado\")\n",
        "\n",
        "print(\"\\nResumo:\")\n",
        "print(\" - Fila (FIFO): registro cronológico.\")\n",
        "print(\" - Pilha (LIFO): últimos eventos primeiro.\")\n",
        "print(\" - Busca sequencial: simples, sem ordenação.\")\n",
        "print(\" - Busca binária: exige ordenação, O(log n).\")\n",
        "print(\" - Merge Sort: ordenação estável por quantidade.\")\n",
        "print(\" - Quick Sort: ordenação in-place por validade.\")\n"
      ]
    },
    {
      "cell_type": "markdown",
      "source": [
        "##**Explicação das Estruturas e Algoritmos Utilizados**\n",
        "\n",
        "Para resolver o problema da falta de precisão no registro de consumo de insumos nas unidades de diagnóstico, foram aplicadas diferentes estruturas de dados e algoritmos clássicos, cada um com um papel específico:\n",
        "\n",
        "1. Fila (Queue)\n",
        "A fila foi utilizada para registrar o consumo diário de insumos na ordem cronológica em que ocorreram. Essa estrutura reflete o processo real de registro, onde os insumos consumidos em um determinado dia são adicionados ao final da fila e retirados na mesma ordem em que foram registrados (FIFO – First In, First Out). Isso permite acompanhar a evolução do consumo ao longo do tempo.\n",
        "\n",
        "2. Pilha (Stack)\n",
        "A pilha foi implementada para simular consultas em ordem inversa, ou seja, começando pelos insumos mais recentemente consumidos. Essa abordagem (LIFO – Last In, First Out) é útil em situações em que se deseja analisar rapidamente os últimos registros de consumo, por exemplo, para verificar um erro recente ou para auditoria imediata.\n",
        "\n",
        "3. Busca Sequencial e Binária\n",
        "Para localizar um insumo específico no registro, foram aplicadas duas estratégias:\n",
        "\n",
        "- Busca Sequencial percorre toda a lista até encontrar o item desejado, sendo adequada para conjuntos de dados pequenos ou não ordenados.\n",
        "\n",
        "- Busca Binária exige que os dados estejam previamente ordenados, mas permite encontrar rapidamente um insumo específico dividindo repetidamente a lista ao meio, reduzindo significativamente o tempo de busca em registros maiores.\n",
        "\n",
        "4. Algoritmos de Ordenação (Merge Sort e Quick Sort)\n",
        "Para organizar os insumos por quantidade consumida ou por data de validade, foram aplicados dois algoritmos de ordenação clássicos:\n",
        "\n",
        "- Merge Sort, que divide os dados em sublistas menores e depois as combina ordenadas, garantindo eficiência mesmo em grandes conjuntos de dados.\n",
        "\n",
        "- Quick Sort, que utiliza a técnica de partição em torno de um pivô, proporcionando rapidez na prática para organizar os registros.\n",
        "\n",
        "Essas técnicas em conjunto permitem não apenas registrar e consultar o consumo diário de forma mais eficiente, mas também manter os dados organizados, possibilitando maior controle de estoque e previsão mais precisa da reposição de insumos."
      ],
      "metadata": {
        "id": "zeVgqdfGssmA"
      },
      "id": "zeVgqdfGssmA"
    }
  ],
  "metadata": {
    "colab": {
      "provenance": []
    },
    "language_info": {
      "name": "python"
    },
    "kernelspec": {
      "name": "python3",
      "display_name": "Python 3"
    }
  },
  "nbformat": 4,
  "nbformat_minor": 5
}